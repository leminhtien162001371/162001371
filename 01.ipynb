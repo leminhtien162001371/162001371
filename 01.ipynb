{
 "cells": [
  {
   "cell_type": "code",
   "execution_count": 104,
   "id": "8fabe9e4-8e61-4e8e-ae41-f2983d7d97e4",
   "metadata": {},
   "outputs": [],
   "source": [
    "from PIL import Image"
   ]
  },
  {
   "cell_type": "code",
   "execution_count": 106,
   "id": "3b18e950-91b9-4cf3-9f50-e81836d12cac",
   "metadata": {},
   "outputs": [],
   "source": [
    "directory = 'D:\\asd'"
   ]
  },
  {
   "cell_type": "code",
   "execution_count": 108,
   "id": "2739530d-1a9c-4fb1-bb54-1a0a337cfe47",
   "metadata": {},
   "outputs": [
    {
     "name": "stdout",
     "output_type": "stream",
     "text": [
      "D:\u0007sd/1.jpr\n"
     ]
    }
   ],
   "source": [
    "image_path = directory +'/1.jpr'\n",
    "print(image_path)"
   ]
  },
  {
   "cell_type": "code",
   "execution_count": 110,
   "id": "86506104-abf1-41b0-89ab-500d36cf9a21",
   "metadata": {},
   "outputs": [
    {
     "ename": "OSError",
     "evalue": "[Errno 22] Invalid argument: 'D:\\\\\\x07sd\\\\1.jpr'",
     "output_type": "error",
     "traceback": [
      "\u001b[1;31m---------------------------------------------------------------------------\u001b[0m",
      "\u001b[1;31mOSError\u001b[0m                                   Traceback (most recent call last)",
      "Cell \u001b[1;32mIn[110], line 1\u001b[0m\n\u001b[1;32m----> 1\u001b[0m img01 \u001b[38;5;241m=\u001b[39m Image\u001b[38;5;241m.\u001b[39mopen(image_path)\n",
      "File \u001b[1;32mD:\\anacomna\\Lib\\site-packages\\PIL\\Image.py:3277\u001b[0m, in \u001b[0;36mopen\u001b[1;34m(fp, mode, formats)\u001b[0m\n\u001b[0;32m   3274\u001b[0m     filename \u001b[38;5;241m=\u001b[39m os\u001b[38;5;241m.\u001b[39mpath\u001b[38;5;241m.\u001b[39mrealpath(os\u001b[38;5;241m.\u001b[39mfspath(fp))\n\u001b[0;32m   3276\u001b[0m \u001b[38;5;28;01mif\u001b[39;00m filename:\n\u001b[1;32m-> 3277\u001b[0m     fp \u001b[38;5;241m=\u001b[39m builtins\u001b[38;5;241m.\u001b[39mopen(filename, \u001b[38;5;124m\"\u001b[39m\u001b[38;5;124mrb\u001b[39m\u001b[38;5;124m\"\u001b[39m)\n\u001b[0;32m   3278\u001b[0m     exclusive_fp \u001b[38;5;241m=\u001b[39m \u001b[38;5;28;01mTrue\u001b[39;00m\n\u001b[0;32m   3280\u001b[0m \u001b[38;5;28;01mtry\u001b[39;00m:\n",
      "\u001b[1;31mOSError\u001b[0m: [Errno 22] Invalid argument: 'D:\\\\\\x07sd\\\\1.jpr'"
     ]
    }
   ],
   "source": [
    "img01 = Image.open(image_path)"
   ]
  },
  {
   "cell_type": "code",
   "execution_count": 112,
   "id": "95337b5d-e9b0-488f-b258-4a2058531259",
   "metadata": {},
   "outputs": [
    {
     "ename": "NameError",
     "evalue": "name 'img01' is not defined",
     "output_type": "error",
     "traceback": [
      "\u001b[1;31m---------------------------------------------------------------------------\u001b[0m",
      "\u001b[1;31mNameError\u001b[0m                                 Traceback (most recent call last)",
      "Cell \u001b[1;32mIn[112], line 1\u001b[0m\n\u001b[1;32m----> 1\u001b[0m display(img01)\n",
      "\u001b[1;31mNameError\u001b[0m: name 'img01' is not defined"
     ]
    }
   ],
   "source": [
    "display(img01)"
   ]
  },
  {
   "cell_type": "code",
   "execution_count": null,
   "id": "fe2e70ea-ba17-43ae-b80a-c889ff913390",
   "metadata": {},
   "outputs": [],
   "source": [
    "print(\"Định dang ảnh: \", img01.format)"
   ]
  },
  {
   "cell_type": "code",
   "execution_count": null,
   "id": "29f85ce0-4ee8-4095-8f37-77c94b4cb609",
   "metadata": {},
   "outputs": [],
   "source": [
    "print(\"Kích thước hình ảnh: \", img01.size)"
   ]
  },
  {
   "cell_type": "code",
   "execution_count": null,
   "id": "3a3f7e45-1fec-4c12-b289-49d519bd1379",
   "metadata": {},
   "outputs": [],
   "source": [
    "new_img_01_path = dir + '/new_01.JPG'\n",
    "new_img_png_01_path = dir + '/new_01.PNG'\n",
    "img01.save(new_img_01_path)\n",
    "img01.save(new_img_png_01_path)"
   ]
  },
  {
   "cell_type": "code",
   "execution_count": null,
   "id": "57da3c48-32fd-45b7-a96b-df69541aaad7",
   "metadata": {},
   "outputs": [],
   "source": [
    "img01.close()"
   ]
  },
  {
   "cell_type": "code",
   "execution_count": null,
   "id": "fc4d154d-6b29-44cf-a0b0-16b6fbc29e16",
   "metadata": {},
   "outputs": [],
   "source": []
  }
 ],
 "metadata": {
  "kernelspec": {
   "display_name": "Python 3 (ipykernel)",
   "language": "python",
   "name": "python3"
  },
  "language_info": {
   "codemirror_mode": {
    "name": "ipython",
    "version": 3
   },
   "file_extension": ".py",
   "mimetype": "text/x-python",
   "name": "python",
   "nbconvert_exporter": "python",
   "pygments_lexer": "ipython3",
   "version": "3.12.4"
  }
 },
 "nbformat": 4,
 "nbformat_minor": 5
}
